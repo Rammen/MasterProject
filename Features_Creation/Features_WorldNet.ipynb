{
 "cells": [
  {
   "cell_type": "markdown",
   "metadata": {},
   "source": [
    "# Setup "
   ]
  },
  {
   "cell_type": "code",
   "execution_count": 11,
   "metadata": {},
   "outputs": [
    {
     "ename": "ModuleNotFoundError",
     "evalue": "No module named 'get_tags'",
     "output_type": "error",
     "traceback": [
      "\u001b[1;31m---------------------------------------------------------------------------\u001b[0m",
      "\u001b[1;31mModuleNotFoundError\u001b[0m                       Traceback (most recent call last)",
      "\u001b[1;32m<ipython-input-11-513b10dfc8c2>\u001b[0m in \u001b[0;36m<module>\u001b[1;34m\u001b[0m\n\u001b[0;32m      6\u001b[0m \u001b[1;32mimport\u001b[0m \u001b[0mseaborn\u001b[0m \u001b[1;32mas\u001b[0m \u001b[0msns\u001b[0m\u001b[1;33m\u001b[0m\u001b[1;33m\u001b[0m\u001b[0m\n\u001b[0;32m      7\u001b[0m \u001b[1;32mimport\u001b[0m \u001b[0mnumpy\u001b[0m \u001b[1;32mas\u001b[0m \u001b[0mnp\u001b[0m\u001b[1;33m\u001b[0m\u001b[1;33m\u001b[0m\u001b[0m\n\u001b[1;32m----> 8\u001b[1;33m \u001b[1;32mfrom\u001b[0m \u001b[0mget_tags\u001b[0m \u001b[1;32mimport\u001b[0m \u001b[1;33m*\u001b[0m\u001b[1;33m\u001b[0m\u001b[1;33m\u001b[0m\u001b[0m\n\u001b[0m",
      "\u001b[1;31mModuleNotFoundError\u001b[0m: No module named 'get_tags'"
     ]
    }
   ],
   "source": [
    "from nltk.corpus import wordnet as wn\n",
    "import nltk\n",
    "import pandas as pd\n",
    "from itertools import combinations\n",
    "import statistics\n",
    "import seaborn as sns\n",
    "import numpy as np\n",
    "from get_tags import *"
   ]
  },
  {
   "cell_type": "code",
   "execution_count": null,
   "metadata": {},
   "outputs": [],
   "source": [
    "\"\"\"\n",
    "    Checking words that might have spelling errors\n",
    "    And manually correct them (used for the manual entries)\n",
    "\"\"\"\n",
    "\n",
    "path = './Tags.xlsx'\n",
    "df_manual = pd.read_excel(path)\n",
    "\n",
    "path = './all_segment.csv'\n",
    "df_google = pd.read_csv(path)\n",
    "\n",
    "i=0\n",
    "for video in list(df_manual['Video']):\n",
    "    df = df_google.loc[df_google['Name']==video]\n",
    "    words = cleanWords(df['VideoLabel'].tolist())\n",
    "    \n",
    "    for word in words:\n",
    "        try:\n",
    "            w = wn.synsets(word)[0]\n",
    "        except:\n",
    "            i+=1\n",
    "            print(word, '------------', video)\n",
    "            \n",
    "print('Total Words missing:', i)"
   ]
  },
  {
   "cell_type": "markdown",
   "metadata": {},
   "source": [
    "# Fonctions "
   ]
  },
  {
   "cell_type": "code",
   "execution_count": 21,
   "metadata": {},
   "outputs": [
    {
     "name": "stdout",
     "output_type": "stream",
     "text": [
      "similarity: 0.8571428571428571\n"
     ]
    },
    {
     "ename": "AttributeError",
     "evalue": "'WordNetCorpusReader' object has no attribute '_lcs_ic'",
     "output_type": "error",
     "traceback": [
      "\u001b[1;31m---------------------------------------------------------------------------\u001b[0m",
      "\u001b[1;31mAttributeError\u001b[0m                            Traceback (most recent call last)",
      "\u001b[1;32m<ipython-input-21-368c4e3eecd7>\u001b[0m in \u001b[0;36m<module>\u001b[1;34m\u001b[0m\n\u001b[0;32m      3\u001b[0m \u001b[0mprint\u001b[0m\u001b[1;33m(\u001b[0m\u001b[1;34m'similarity:'\u001b[0m\u001b[1;33m,\u001b[0m \u001b[0mdog\u001b[0m\u001b[1;33m.\u001b[0m\u001b[0mwup_similarity\u001b[0m\u001b[1;33m(\u001b[0m\u001b[0mcat\u001b[0m\u001b[1;33m)\u001b[0m\u001b[1;33m)\u001b[0m\u001b[1;33m\u001b[0m\u001b[1;33m\u001b[0m\u001b[0m\n\u001b[0;32m      4\u001b[0m \u001b[1;33m\u001b[0m\u001b[0m\n\u001b[1;32m----> 5\u001b[1;33m \u001b[0mwn\u001b[0m\u001b[1;33m.\u001b[0m\u001b[0m_lcs_ic\u001b[0m\u001b[1;33m(\u001b[0m\u001b[0mdog\u001b[0m\u001b[1;33m,\u001b[0m \u001b[0mcat\u001b[0m\u001b[1;33m,\u001b[0m \u001b[0mverbose\u001b[0m\u001b[1;33m=\u001b[0m\u001b[1;32mFalse\u001b[0m\u001b[1;33m)\u001b[0m\u001b[1;33m\u001b[0m\u001b[1;33m\u001b[0m\u001b[0m\n\u001b[0m",
      "\u001b[1;31mAttributeError\u001b[0m: 'WordNetCorpusReader' object has no attribute '_lcs_ic'"
     ]
    }
   ],
   "source": [
    "dog = wn.synsets('dog')[0]\n",
    "cat = wn.synsets('cat')[0]\n",
    "print('similarity:', dog.wup_similarity(cat))\n",
    "\n",
    "wn._lcs_ic(dog, cat, verbose=False)"
   ]
  },
  {
   "cell_type": "code",
   "execution_count": 6,
   "metadata": {},
   "outputs": [
    {
     "name": "stdout",
     "output_type": "stream",
     "text": [
      "Exemple: {'Mean': 0.386, 'STD': 0.07, 'Variance': 0.005, 'min': 0.333, 'max': 0.522, 'count': 6}\n"
     ]
    }
   ],
   "source": [
    "\"\"\"\n",
    "Function that take a list of word and return descriptive statistics about this group of words\n",
    "\"\"\"\n",
    "\n",
    "def descriptive_stats_similarity(word_list):\n",
    "    values = [] # Add all value of similarity to the list\n",
    "    result = {}\n",
    "    for pair in combinations(word_list, 2):\n",
    "        \n",
    "        try:\n",
    "            w1 = wn.synsets(pair[0])[0]\n",
    "            w2 = wn.synsets(pair[1])[0]\n",
    "            similarity = w1.wup_similarity(w2)\n",
    "\n",
    "            if similarity != None:\n",
    "                values.append(similarity)\n",
    "\n",
    "            else: # If value is none (no similarity, add 0)\n",
    "                values.append(0.00)\n",
    "                \n",
    "        except:\n",
    "            pass\n",
    "#             print(\"{} and {} --- This combinaison may contain an error\".format(pair[0], pair[1]))\n",
    "        \n",
    "    try:\n",
    "        result['Mean'] = round(statistics.mean(values),3)\n",
    "        result['STD'] = round(statistics.stdev(values),3)\n",
    "        result['Variance'] = round(statistics.variance(values),3)\n",
    "        result['min'] = round(min(values),3)\n",
    "        result['max'] = round(max(values),3)\n",
    "        result['count'] =  len(values)\n",
    "\n",
    "    \n",
    "    except:\n",
    "        print('This video contain only one word, no similarity')\n",
    "        result = {'Mean':np.nan, 'STD':np.nan, 'Variance':np.nan, 'min':np.nan, 'max':np.nan, 'count':len(values)}\n",
    "\n",
    "    return result\n",
    "\n",
    "# Exemple of retun with the words ['apple', 'tree', 'car', 'monkey']\n",
    "print('Exemple:', descriptive_stats_similarity(['apple', 'tree', 'car', 'monkey']))"
   ]
  },
  {
   "cell_type": "markdown",
   "metadata": {},
   "source": [
    "# Analysis #1 \n",
    "## Descriptive comparaison between Google and Manual Tags\n",
    "\n",
    "Using the function above, I obtained the mean of similarity of each video for (1) google API and (2) manual tags. I then created a distribution graph (x=manual and y=google) with different colors for the type of video. I also created a graph with anova and t-test to see the distribution between google and manual tags. "
   ]
  },
  {
   "cell_type": "code",
   "execution_count": 4,
   "metadata": {},
   "outputs": [
    {
     "name": "stdout",
     "output_type": "stream",
     "text": [
      "Using: C:/Users/ramme/Dev/Analyse-Maitrise/Videos/result/GoogleAPI_results/all_segment.csv\n",
      "This video contain only one word, no similarity\n",
      "1Neutral_frigo do not exist in google tags\n",
      "This video contain only one word, no similarity\n",
      "1Neutral_officework do not exist in google tags\n",
      "This video contain only one word, no similarity\n",
      "This video contain only one word, no similarity\n",
      "2Funny Sillywalk do not exist in google tags\n",
      "2Funny weddingcake GA.mp4 do not exist in google tags\n",
      "This video contain only one word, no similarity\n",
      "2Marie_Oktoberfest.mp4 do not exist in google tags\n",
      "This video contain only one word, no similarity\n",
      "This video contain only one word, no similarity\n",
      "This video contain only one word, no similarity\n",
      "2vid33.mp4 do not exist in google tags\n",
      "This video contain only one word, no similarity\n",
      "This video contain only one word, no similarity\n",
      "This video contain only one word, no similarity\n",
      "This video contain only one word, no similarity\n",
      "This video contain only one word, no similarity\n",
      "This video contain only one word, no similarity\n",
      "This video contain only one word, no similarity\n"
     ]
    }
   ],
   "source": [
    "\"\"\"\n",
    "    create a dataframe with\n",
    "    - video type\n",
    "    - video name\n",
    "    - Mean of similarity based on google API\n",
    "    - Mean of similarity based on my own tags\n",
    "\"\"\"\n",
    "\n",
    "# import data\n",
    "words_google, _, vid_google = use_GoogleAPI_Tag('all_segment.csv')\n",
    "words_manual, _, vid_manual = use_Manual_Tag()\n",
    "\n",
    "# df to store data\n",
    "df_result = pd.DataFrame(columns=['Type','Video', 'Manual', 'Google'])\n",
    "\n",
    "for vid in vid_manual:    \n",
    "    \n",
    "    # get a list of video from Manual Annotation\n",
    "    manual_index = vid_manual.index(vid)   \n",
    "    words = words_manual[manual_index].split()\n",
    "    manual_mean = descriptive_stats_similarity(words)['Mean']\n",
    "    \n",
    "    # get a list of video from google Annoation\n",
    "    try:\n",
    "        google_index = vid_google.index(vid)\n",
    "        words = words_google[google_index].split()\n",
    "        google_mean = descriptive_stats_similarity(words)['Mean']\n",
    "    except: \n",
    "        print(vid, 'do not exist in google tags')\n",
    "        google_mean = np.NaN\n",
    "    \n",
    "    df_result = df_result.append({'Type':int(vid[0]) ,'Video':video, 'Manual':manual_mean, 'Google':google_mean}, ignore_index=True)"
   ]
  },
  {
   "cell_type": "code",
   "execution_count": 7,
   "metadata": {},
   "outputs": [
    {
     "name": "stdout",
     "output_type": "stream",
     "text": [
      "<class 'pandas.core.frame.DataFrame'>\n",
      "RangeIndex: 150 entries, 0 to 149\n",
      "Data columns (total 4 columns):\n",
      " #   Column  Non-Null Count  Dtype  \n",
      "---  ------  --------------  -----  \n",
      " 0   Type    150 non-null    object \n",
      " 1   Video   150 non-null    object \n",
      " 2   Manual  150 non-null    float64\n",
      " 3   Google  129 non-null    float64\n",
      "dtypes: float64(2), object(2)\n",
      "memory usage: 4.8+ KB\n"
     ]
    }
   ],
   "source": [
    "df_result.info()"
   ]
  },
  {
   "cell_type": "code",
   "execution_count": 8,
   "metadata": {
    "scrolled": false
   },
   "outputs": [
    {
     "data": {
      "image/png": "[encoded data removed]",
      "text/plain": [
       "<Figure size 432x288 with 1 Axes>"
      ]
     },
     "metadata": {
      "needs_background": "light"
     },
     "output_type": "display_data"
    }
   ],
   "source": [
    "import matplotlib.pyplot as plt\n",
    "\n",
    "df = df_result.dropna()\n",
    "\n",
    "df = df.replace({'Type': {1: 'Neutral', 2: 'Funny', 3:'Very Funny'}})\n",
    "ax = sns.scatterplot(x=\"Manual\", y=\"Google\", data=df, hue='Type')\n",
    "plt.ylim(0, 1);\n",
    "plt.xlim(0, 1);"
   ]
  },
  {
   "cell_type": "code",
   "execution_count": 10,
   "metadata": {},
   "outputs": [
    {
     "name": "stdout",
     "output_type": "stream",
     "text": [
      "No Title \n",
      "\n",
      "p = 0.161359\n",
      "There's no difference in the groups\n",
      "\n",
      "  Multiple Comparison of Means - Tukey HSD, FWER=0.05   \n",
      "========================================================\n",
      " group1   group2   meandiff p-adj   lower  upper  reject\n",
      "--------------------------------------------------------\n",
      "  Funny    Neutral   0.0025    0.9 -0.0811 0.0861  False\n",
      "  Funny Very Funny   0.0586 0.2204 -0.0246 0.1418  False\n",
      "Neutral Very Funny   0.0561 0.2327  -0.025 0.1373  False\n",
      "--------------------------------------------------------\n"
     ]
    },
    {
     "data": {
      "image/png": "[encoded data removed]",
      "text/plain": [
       "<Figure size 432x288 with 1 Axes>"
      ]
     },
     "metadata": {
      "needs_background": "light"
     },
     "output_type": "display_data"
    }
   ],
   "source": [
    "import pandas as pd \n",
    "import scipy.stats as stats\n",
    "import seaborn as sns\n",
    "from statsmodels.stats.multicomp import MultiComparison\n",
    "\n",
    "def Anova_Type(df, rating, group='VideoType', title='No Title', alpha=0.05):\n",
    "    \n",
    "    # Settings for the X axis\n",
    "    type_value = {1:'Neutral', 2:'Funny', 3:'Very Funny'}\n",
    "    df=df.replace({group: type_value})  \n",
    "    order = ['Neutral', 'Funny', 'Very Funny']\n",
    "\n",
    "    bloc1 = list(df.loc[df[group] == 'Neutral'][rating])\n",
    "    bloc2 = list(df.loc[df[group] == 'Funny'][rating])\n",
    "    bloc3 = list(df.loc[df[group] == 'Very Funny'][rating])\n",
    "\n",
    "    print(title, '\\n')\n",
    "\n",
    "    # Create a barplot\n",
    "\n",
    "    ax=sns.barplot(x=group, y=rating, data=df, order = order).set_title(title)\n",
    "\n",
    "    # Anova\n",
    "    k, p = stats.f_oneway(bloc1, bloc2, bloc3)\n",
    "\n",
    "    if p < alpha:\n",
    "        print(\"p = {:g}*\".format(p))\n",
    "        print(\"There's a difference in at least one groups\\n\")\n",
    "    else:\n",
    "        print(\"p = {:g}\".format(p))\n",
    "        print(\"There's no difference in the groups\\n\")\n",
    "\n",
    "    # Multiple Comparaison\n",
    "\n",
    "    mc = MultiComparison(df[rating], df[group])\n",
    "    mc_results = mc.tukeyhsd()\n",
    "    print(mc_results)\n",
    "\n",
    "    \n",
    "df = df_result.dropna()\n",
    "Anova_Type(df,'Manual' ,'Type')\n",
    "\n"
   ]
  },
  {
   "cell_type": "markdown",
   "metadata": {},
   "source": [
    "#  Analysis #2\n",
    "## Generate a dataframe to use in ML \n",
    "\n",
    "Create a dataframe where each colomn is a video and we have the mean, std, var, min, max and count of each similarity"
   ]
  },
  {
   "cell_type": "code",
   "execution_count": 103,
   "metadata": {},
   "outputs": [],
   "source": [
    "def similarity_computed(words, type_vid, vids, method):\n",
    "    \n",
    "    df_result = pd.DataFrame(columns=['Video', 'Method', 'Mean', 'STD', 'Variance', 'min', 'max'])\n",
    "\n",
    "    for vid in vids:    \n",
    "        index = vids.index(vid)   \n",
    "        try:\n",
    "            words_list = words[index].split() # change string to list of words\n",
    "        except:\n",
    "            words_list = list(words[index])\n",
    "            \n",
    "        data = descriptive_stats_similarity(words_list)\n",
    "        \n",
    "        if vid[-4:] == '.mp4':\n",
    "             data['Video'] = vid[:-4]\n",
    "        else:\n",
    "            data['Video'] = vid\n",
    "            \n",
    "        data['Method'] = method\n",
    "        df_result = df_result.append(data, ignore_index=True)\n",
    "    \n",
    "    return df_result"
   ]
  },
  {
   "cell_type": "code",
   "execution_count": 104,
   "metadata": {
    "scrolled": false
   },
   "outputs": [
    {
     "name": "stdout",
     "output_type": "stream",
     "text": [
      "Using: C:/Users/ramme/Dev/Analyse-Maitrise/Videos/result/GoogleAPI_results/all_segment.csv\n",
      "This video contain only one word, no similarity\n",
      "This video contain only one word, no similarity\n",
      "This video contain only one word, no similarity\n",
      "This video contain only one word, no similarity\n",
      "This video contain only one word, no similarity\n",
      "This video contain only one word, no similarity\n",
      "This video contain only one word, no similarity\n",
      "This video contain only one word, no similarity\n",
      "This video contain only one word, no similarity\n",
      "This video contain only one word, no similarity\n",
      "This video contain only one word, no similarity\n",
      "This video contain only one word, no similarity\n",
      "This video contain only one word, no similarity\n",
      "This video contain only one word, no similarity\n",
      "This video contain only one word, no similarity\n"
     ]
    }
   ],
   "source": [
    "\"\"\"\n",
    "    create a dataframe with\n",
    "    - video name\n",
    "    - Mean, STD, var, min, max, count of Google API\n",
    "    - Mean, STD, var, min, max, count of Manual Tags\n",
    "\"\"\"\n",
    "\n",
    "# import data\n",
    "words_google, type_google, vid_google = use_GoogleAPI_Tag('all_segment.csv')\n",
    "words_manual, type_manual, vid_manual = use_Manual_Tag()\n",
    "\n",
    "similarity_computed(words_google, type_google, vid_google, 'Google').to_csv('./similarity_google_13082020.csv')\n",
    "similarity_computed(words_manual, type_manual, vid_manual, 'Manual').to_csv('./similarity_manual_13082020.csv')"
   ]
  },
  {
   "cell_type": "code",
   "execution_count": null,
   "metadata": {},
   "outputs": [],
   "source": [
    "words_google, type_google, vid_google = use_GoogleAPI_Tag('all_segment.csv')"
   ]
  }
 ],
 "metadata": {
  "kernelspec": {
   "display_name": "Python 3",
   "language": "python",
   "name": "python3"
  },
  "language_info": {
   "codemirror_mode": {
    "name": "ipython",
    "version": 3
   },
   "file_extension": ".py",
   "mimetype": "text/x-python",
   "name": "python",
   "nbconvert_exporter": "python",
   "pygments_lexer": "ipython3",
   "version": "3.7.3"
  }
 },
 "nbformat": 4,
 "nbformat_minor": 2
}
