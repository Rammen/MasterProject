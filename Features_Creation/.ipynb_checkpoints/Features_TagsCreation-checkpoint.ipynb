{
 "cells": [
  {
   "cell_type": "markdown",
   "metadata": {},
   "source": [
    "## Extract labels of the video with Google Cloud Video Intelligence"
   ]
  },
  {
   "cell_type": "code",
   "execution_count": null,
   "metadata": {},
   "outputs": [],
   "source": [
    "import os\n",
    "import pandas as pd\n",
    "from google.cloud import videointelligence\n",
    "\n",
    "# Set Google Cloud Video Intelligence API Client\n",
    "json_path = './path/to/json'\n",
    "os.environ[\"GOOGLE_APPLICATION_CREDENTIALS\"] = json_path\n",
    "\n",
    "# Use Google Cloud Video Intelligence to annotate a video\n",
    "def videoAnnotation(videoName):\n",
    "    # Call the API \n",
    "    client = videointelligence.VideoIntelligenceServiceClient() \n",
    "    job = client.annotate_video(\n",
    "    input_uri='gs://humour_video/{}'.format(videoName),\n",
    "    features=[videointelligence.enums.Feature.LABEL_DETECTION])\n",
    "    \n",
    "    print('\\nStart annotation of {}'.format(videoName))\n",
    "    result = job.result(timeout=90)\n",
    "    print('Video {} has been annoted'.format(videoName))\n",
    "    return result\n",
    "\n",
    "# Get annotation from Google Cloud Video Intelligence and save it in csv form\n",
    "# The algo will be performed on all the video, unless shot is True\n",
    "def annotation_to_CSV(videoName, result, shot=False):\n",
    "    \n",
    "    print('Converting {} annotation to CSV'.format(videoName))\n",
    "    \n",
    "    df = pd.DataFrame()\n",
    "        \n",
    "    # Get the result of the annotation per segment (here per video)\n",
    "    segment_labels = result.annotation_results[0].segment_label_annotations\n",
    "    \n",
    "    if shot:\n",
    "        segment_labels = result.annotation_results[0].shot_label_annotations\n",
    "    \n",
    "    # Enumerate through the class to get all the labels and add it to a dataframe\n",
    "    for i, segment_label in enumerate(segment_labels):\n",
    "        \n",
    "        video = {}\n",
    "        video['Name'] = videoName\n",
    "        video['VideoLabel'] = segment_label.entity.description\n",
    "\n",
    "        i = 0\n",
    "        for category_entity in segment_label.category_entities:\n",
    "            if i == 0 :\n",
    "                video['category'] = category_entity.description\n",
    "                i+=1\n",
    "            else:\n",
    "                video['category'+str(i)] = category_entity.description\n",
    "                i+=1\n",
    "\n",
    "        for i, segment in enumerate(segment_label.segments):\n",
    "            video['start_time'] = (segment.segment.start_time_offset.seconds +\n",
    "                          segment.segment.start_time_offset.nanos / 1e9)\n",
    "            video['end_time'] = (segment.segment.end_time_offset.seconds +\n",
    "                        segment.segment.end_time_offset.nanos / 1e9)\n",
    "            video['confidence'] = segment.confidence\n",
    "\n",
    "\n",
    "        df = df.append(video, ignore_index=True)\n",
    "    \n",
    "    if df.empty:\n",
    "        print('Video {} df was empty / the video was not save in a csv'.format(videoName))\n",
    "    \n",
    "    else:\n",
    "        if shot:\n",
    "            df.to_csv('results/shot/{}.csv'.format(videoName[0:-4]), index=False)\n",
    "        else:\n",
    "            df.to_csv('results/segment/{}.csv'.format(videoName[0:-4]), index=False)\n",
    "        \n",
    "        print('Video {} has been saved into a csv'.format(videoName))\n",
    "    \n",
    "    return df\n",
    "\n"
   ]
  },
  {
   "cell_type": "markdown",
   "metadata": {},
   "source": [
    "### Code exemple"
   ]
  },
  {
   "cell_type": "code",
   "execution_count": null,
   "metadata": {},
   "outputs": [],
   "source": [
    "# \"\"\" \n",
    "# Code exemple to analyse video. Get:\n",
    "# - 1 csv per video (saved by the function)\n",
    "# - 1 csv for all videos in the videos list (save by this code)\n",
    "# \"\"\"\n",
    "\n",
    "video = '1Neutral_officework.mp4' # set the name of the video that want to analyse\n",
    "\n",
    "result = videoAnnotation(video)\n",
    "df_video = annotation_to_CSV(video, result, shot=False) # get a df of the annotation"
   ]
  },
  {
   "cell_type": "markdown",
   "metadata": {},
   "source": [
    "### Analysis"
   ]
  },
  {
   "cell_type": "code",
   "execution_count": null,
   "metadata": {
    "scrolled": false
   },
   "outputs": [],
   "source": [
    "from os import listdir, path\n",
    "import pandas as pd\n",
    "\n",
    "# Settings\n",
    "video_path = './path/to/file' # videos in this folder are already loaded in a bucket in google cloud\n",
    "analysis_path = './path/to/file'\n",
    "videos = listdir(video_path)\n",
    "all_annotation = pd.DataFrame()\n",
    "overwrite = True # If true, return the analysis and save. If Fasle, skip the video \n",
    "\n",
    "for video in videos:\n",
    "    \n",
    "    if not overwrite and path.exists(analysis_path + video + '.csv'):\n",
    "        print('Video {} already exist / video was not computed'.format(video))\n",
    "        continue\n",
    "    \n",
    "    annotation = videoAnnotation(video)\n",
    "    df_video = annotation_to_CSV(video, annotation, shot=True) # get a df of the annotation\n",
    "    all_annotation = all_annotation.append(df_video, sort=True) # Append this new df to all previous df annotation\n",
    "\n",
    "all_annotation.to_csv(analysis_path + 'all_data_n{}.csv'.format(len(videos)), index=False) # Save all annotation in one csv"
   ]
  }
 ],
 "metadata": {
  "kernelspec": {
   "display_name": "Python 3",
   "language": "python",
   "name": "python3"
  },
  "language_info": {
   "codemirror_mode": {
    "name": "ipython",
    "version": 3
   },
   "file_extension": ".py",
   "mimetype": "text/x-python",
   "name": "python",
   "nbconvert_exporter": "python",
   "pygments_lexer": "ipython3",
   "version": "3.7.3"
  }
 },
 "nbformat": 4,
 "nbformat_minor": 2
}
