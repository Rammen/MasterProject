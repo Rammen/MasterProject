{
 "cells": [
  {
   "cell_type": "code",
   "execution_count": 1,
   "metadata": {},
   "outputs": [],
   "source": [
    "import pandas as pd\n",
    "from itertools import combinations\n",
    "from os import listdir\n",
    "import math"
   ]
  },
  {
   "cell_type": "markdown",
   "metadata": {},
   "source": [
    "# Clean Data "
   ]
  },
  {
   "cell_type": "code",
   "execution_count": 221,
   "metadata": {},
   "outputs": [
    {
     "name": "stdout",
     "output_type": "stream",
     "text": [
      "serpapi_results_1.csv\n",
      "serpapi_results_2.csv\n",
      "serpapi_results_3.csv\n",
      "serpapi_results_4.csv\n",
      "serpapi_results_manual.csv\n"
     ]
    }
   ],
   "source": [
    "folder='./result/SerpApi/'\n",
    "\n",
    "all_df = []\n",
    "\n",
    "for file in listdir(folder):\n",
    "    \n",
    "    try:\n",
    "        print(file)\n",
    "        df = pd.read_csv(folder+file)\n",
    "    except: \n",
    "        continue\n",
    "    \n",
    "    all_df.append(df)\n",
    "    \n",
    "all_results = pd.concat(all_df)\n",
    "all_results.drop_duplicates(subset =\"Tags\", keep='first', inplace = True) \n",
    "\n",
    "all_results.to_csv('./result/NDG/serpAPI_results.csv')"
   ]
  },
  {
   "cell_type": "markdown",
   "metadata": {},
   "source": [
    "# Compute Normalized Google Distance "
   ]
  },
  {
   "cell_type": "code",
   "execution_count": 3,
   "metadata": {},
   "outputs": [],
   "source": [
    "def number_of_results(w):\n",
    "    df = pd.read_csv('./result/NDG/serpAPI_results.csv')\n",
    "    \n",
    "    try:\n",
    "        tag = int(df.loc[df['Tags']==w]['Result'])\n",
    "        return tag\n",
    "    \n",
    "    except: \n",
    "        return None\n",
    "\n",
    "def normalized_google_distance(w1, w2, w1_2):\n",
    "    N = 25270000000 # Number of time The is search\n",
    "    \n",
    "    try:\n",
    "        f_w1 = math.log(number_of_results(w1),2)\n",
    "        f_w2 = math.log(number_of_results(w2),2)\n",
    "        f_w1_w2 = math.log(number_of_results(w1_2),2)\n",
    "        return (max(f_w1,f_w2) - f_w1_w2) / (N - min(f_w1,f_w2))\n",
    "    \n",
    "    except:\n",
    "        try:\n",
    "            f_w1 = math.log(number_of_results(w2),2)\n",
    "            f_w2 = math.log(number_of_results(w1),2)\n",
    "            f_w1_w2 = math.log(number_of_results(\" \".join([w2,w1])),2)\n",
    "            return (max(f_w1,f_w2) - f_w1_w2) / (N - min(f_w1,f_w2))\n",
    "        \n",
    "        except:\n",
    "            print(w1_2)\n",
    "            return None\n",
    "        \n",
    "# normalized_google_distance('christmas ornament', 'holiday', 'christmas ornament holiday')\n",
    "number_of_results('christmas ornament holiday')"
   ]
  },
  {
   "cell_type": "code",
   "execution_count": 5,
   "metadata": {},
   "outputs": [
    {
     "data": {
      "text/html": [
       "<div>\n",
       "<style scoped>\n",
       "    .dataframe tbody tr th:only-of-type {\n",
       "        vertical-align: middle;\n",
       "    }\n",
       "\n",
       "    .dataframe tbody tr th {\n",
       "        vertical-align: top;\n",
       "    }\n",
       "\n",
       "    .dataframe thead th {\n",
       "        text-align: right;\n",
       "    }\n",
       "</style>\n",
       "<table border=\"1\" class=\"dataframe\">\n",
       "  <thead>\n",
       "    <tr style=\"text-align: right;\">\n",
       "      <th></th>\n",
       "      <th>Video</th>\n",
       "      <th>Tag1</th>\n",
       "      <th>Tag2</th>\n",
       "      <th>Tag1_2</th>\n",
       "      <th>NDG</th>\n",
       "      <th>Words_Technique</th>\n",
       "    </tr>\n",
       "  </thead>\n",
       "  <tbody>\n",
       "    <tr>\n",
       "      <th>0</th>\n",
       "      <td>1edited_art_TD_1.mp4</td>\n",
       "      <td>visual arts</td>\n",
       "      <td>painting</td>\n",
       "      <td>visual arts painting</td>\n",
       "      <td>1.157474e-10</td>\n",
       "      <td>Google</td>\n",
       "    </tr>\n",
       "    <tr>\n",
       "      <th>1</th>\n",
       "      <td>1edited_art_TD_1.mp4</td>\n",
       "      <td>visual arts</td>\n",
       "      <td>art</td>\n",
       "      <td>visual arts art</td>\n",
       "      <td>1.430266e-10</td>\n",
       "      <td>Google</td>\n",
       "    </tr>\n",
       "    <tr>\n",
       "      <th>2</th>\n",
       "      <td>1edited_art_TD_1.mp4</td>\n",
       "      <td>visual arts</td>\n",
       "      <td>paint</td>\n",
       "      <td>visual arts paint</td>\n",
       "      <td>1.358682e-10</td>\n",
       "      <td>Google</td>\n",
       "    </tr>\n",
       "    <tr>\n",
       "      <th>3</th>\n",
       "      <td>1edited_art_TD_1.mp4</td>\n",
       "      <td>painting</td>\n",
       "      <td>art</td>\n",
       "      <td>painting art</td>\n",
       "      <td>7.429036e-11</td>\n",
       "      <td>Google</td>\n",
       "    </tr>\n",
       "    <tr>\n",
       "      <th>4</th>\n",
       "      <td>1edited_art_TD_1.mp4</td>\n",
       "      <td>painting</td>\n",
       "      <td>paint</td>\n",
       "      <td>painting paint</td>\n",
       "      <td>9.670916e-11</td>\n",
       "      <td>Google</td>\n",
       "    </tr>\n",
       "  </tbody>\n",
       "</table>\n",
       "</div>"
      ],
      "text/plain": [
       "                  Video         Tag1      Tag2                Tag1_2  \\\n",
       "0  1edited_art_TD_1.mp4  visual arts  painting  visual arts painting   \n",
       "1  1edited_art_TD_1.mp4  visual arts       art       visual arts art   \n",
       "2  1edited_art_TD_1.mp4  visual arts     paint     visual arts paint   \n",
       "3  1edited_art_TD_1.mp4     painting       art          painting art   \n",
       "4  1edited_art_TD_1.mp4     painting     paint        painting paint   \n",
       "\n",
       "            NDG Words_Technique  \n",
       "0  1.157474e-10          Google  \n",
       "1  1.430266e-10          Google  \n",
       "2  1.358682e-10          Google  \n",
       "3  7.429036e-11          Google  \n",
       "4  9.670916e-11          Google  "
      ]
     },
     "execution_count": 5,
     "metadata": {},
     "output_type": "execute_result"
    }
   ],
   "source": [
    "all_tags =  pd.DataFrame(columns=['Video','Tag1', 'Tag2', 'Tag1_2', 'NDG', 'Words_Technique'])\n",
    "\n",
    "# Google Tags\n",
    "\n",
    "df = pd.read_csv('./result/GoogleAPI_results/all_shot.csv')[['Name', 'VideoLabel', 'confidence']]\n",
    "\n",
    "for name in df['Name'].unique():\n",
    "    best_labels = df.loc[df['Name']==name].nlargest(10, 'confidence')\n",
    "    labels = list(combinations(list(best_labels['VideoLabel']), 2))\n",
    "\n",
    "    for paire in labels:\n",
    "        NDG = normalized_google_distance(paire[0], paire[1], \" \".join(paire))\n",
    "        all_tags = all_tags.append({\n",
    "            'Video':name,\n",
    "            'Tag1':paire[0],\n",
    "            'Tag2':paire[1],\n",
    "            'Tag1_2':\" \".join(paire),\n",
    "            'NDG':NDG,\n",
    "            'Words_Technique':'Google'}, ignore_index=True)\n",
    "        \n",
    "# Manual tags\n",
    "\n",
    "df = pd.read_excel('./Tags.xlsx')\n",
    "\n",
    "for index, row in df.iterrows():\n",
    "    labels = list(row.drop('Video'))\n",
    "    labels = list(combinations(labels, 2))\n",
    "    \n",
    "    for paire in labels:\n",
    "        NDG = normalized_google_distance(paire[0], paire[1], \" \".join(paire))\n",
    "        all_tags = all_tags.append({\n",
    "            'Video':row['Video'],\n",
    "            'Tag1':paire[0], \n",
    "            'Tag2':paire[1],\n",
    "            'Tag1_2':\" \".join(paire), \n",
    "            'NDG':NDG,\n",
    "            'Words_Technique':'Manual'},\n",
    "            ignore_index=True)\n",
    "        \n",
    "\n",
    "all_tags.to_csv('./result/NDG/NGD_values.csv')\n",
    "\n",
    "all_tags.head()"
   ]
  },
  {
   "cell_type": "code",
   "execution_count": 6,
   "metadata": {},
   "outputs": [
    {
     "data": {
      "text/html": [
       "<div>\n",
       "<style scoped>\n",
       "    .dataframe tbody tr th:only-of-type {\n",
       "        vertical-align: middle;\n",
       "    }\n",
       "\n",
       "    .dataframe tbody tr th {\n",
       "        vertical-align: top;\n",
       "    }\n",
       "\n",
       "    .dataframe thead th {\n",
       "        text-align: right;\n",
       "    }\n",
       "</style>\n",
       "<table border=\"1\" class=\"dataframe\">\n",
       "  <thead>\n",
       "    <tr style=\"text-align: right;\">\n",
       "      <th></th>\n",
       "      <th>Mean</th>\n",
       "      <th>Method</th>\n",
       "      <th>STD</th>\n",
       "      <th>Variance</th>\n",
       "      <th>Video</th>\n",
       "      <th>count</th>\n",
       "      <th>max</th>\n",
       "      <th>min</th>\n",
       "    </tr>\n",
       "  </thead>\n",
       "  <tbody>\n",
       "    <tr>\n",
       "      <th>0</th>\n",
       "      <td>1.159058e-10</td>\n",
       "      <td>Google</td>\n",
       "      <td>2.618116e-11</td>\n",
       "      <td>6.854530e-22</td>\n",
       "      <td>1edited_art_TD_1.mp4</td>\n",
       "      <td>6.0</td>\n",
       "      <td>1.430266e-10</td>\n",
       "      <td>7.429036e-11</td>\n",
       "    </tr>\n",
       "    <tr>\n",
       "      <th>1</th>\n",
       "      <td>1.662622e-10</td>\n",
       "      <td>Manual</td>\n",
       "      <td>5.047533e-11</td>\n",
       "      <td>2.547759e-21</td>\n",
       "      <td>1edited_art_TD_1.mp4</td>\n",
       "      <td>6.0</td>\n",
       "      <td>2.156132e-10</td>\n",
       "      <td>7.429036e-11</td>\n",
       "    </tr>\n",
       "    <tr>\n",
       "      <th>2</th>\n",
       "      <td>1.413860e-10</td>\n",
       "      <td>Google</td>\n",
       "      <td>6.427469e-11</td>\n",
       "      <td>4.131236e-21</td>\n",
       "      <td>1EDIT_neutre_train_a.mp4</td>\n",
       "      <td>45.0</td>\n",
       "      <td>2.849670e-10</td>\n",
       "      <td>2.896980e-11</td>\n",
       "    </tr>\n",
       "    <tr>\n",
       "      <th>3</th>\n",
       "      <td>9.709976e-11</td>\n",
       "      <td>Manual</td>\n",
       "      <td>3.215530e-11</td>\n",
       "      <td>1.033964e-21</td>\n",
       "      <td>1EDIT_neutre_train_a.mp4</td>\n",
       "      <td>6.0</td>\n",
       "      <td>1.457612e-10</td>\n",
       "      <td>6.740145e-11</td>\n",
       "    </tr>\n",
       "    <tr>\n",
       "      <th>4</th>\n",
       "      <td>1.736065e-10</td>\n",
       "      <td>Google</td>\n",
       "      <td>8.230552e-11</td>\n",
       "      <td>6.774198e-21</td>\n",
       "      <td>1Graff NS.mp4</td>\n",
       "      <td>36.0</td>\n",
       "      <td>3.113265e-10</td>\n",
       "      <td>4.290869e-11</td>\n",
       "    </tr>\n",
       "  </tbody>\n",
       "</table>\n",
       "</div>"
      ],
      "text/plain": [
       "           Mean  Method           STD      Variance                     Video  \\\n",
       "0  1.159058e-10  Google  2.618116e-11  6.854530e-22      1edited_art_TD_1.mp4   \n",
       "1  1.662622e-10  Manual  5.047533e-11  2.547759e-21      1edited_art_TD_1.mp4   \n",
       "2  1.413860e-10  Google  6.427469e-11  4.131236e-21  1EDIT_neutre_train_a.mp4   \n",
       "3  9.709976e-11  Manual  3.215530e-11  1.033964e-21  1EDIT_neutre_train_a.mp4   \n",
       "4  1.736065e-10  Google  8.230552e-11  6.774198e-21             1Graff NS.mp4   \n",
       "\n",
       "   count           max           min  \n",
       "0    6.0  1.430266e-10  7.429036e-11  \n",
       "1    6.0  2.156132e-10  7.429036e-11  \n",
       "2   45.0  2.849670e-10  2.896980e-11  \n",
       "3    6.0  1.457612e-10  6.740145e-11  \n",
       "4   36.0  3.113265e-10  4.290869e-11  "
      ]
     },
     "execution_count": 6,
     "metadata": {},
     "output_type": "execute_result"
    }
   ],
   "source": [
    "df = all_tags\n",
    "\n",
    "descriptive = pd.DataFrame()\n",
    "for video in all_tags['Video'].unique():\n",
    "    df_video = all_tags.loc[all_tags['Video']==video]\n",
    "    \n",
    "    for method in ['Google', 'Manual']:\n",
    "        df = df_video.loc[df_video['Words_Technique'] == method]\n",
    "        descriptive = descriptive.append({\n",
    "            'Video':video,\n",
    "            'Method': method,\n",
    "            'Mean':df['NDG'].mean(),\n",
    "            'STD': df['NDG'].std(),\n",
    "            'Variance': df['NDG'].var(),\n",
    "            'min': df['NDG'].min(),\n",
    "            'max': df['NDG'].max(),\n",
    "            'count':df['NDG'].count()} ,ignore_index=True)\n",
    "\n",
    "descriptive.to_csv('./result/OpenCV_NPZ_Compute/NDG_computed.csv')\n",
    "descriptive.head()"
   ]
  },
  {
   "cell_type": "markdown",
   "metadata": {},
   "source": [
    "# NDG matrice exemple "
   ]
  },
  {
   "cell_type": "code",
   "execution_count": 44,
   "metadata": {},
   "outputs": [
    {
     "data": {
      "text/html": [
       "<div>\n",
       "<style scoped>\n",
       "    .dataframe tbody tr th:only-of-type {\n",
       "        vertical-align: middle;\n",
       "    }\n",
       "\n",
       "    .dataframe tbody tr th {\n",
       "        vertical-align: top;\n",
       "    }\n",
       "\n",
       "    .dataframe thead th {\n",
       "        text-align: right;\n",
       "    }\n",
       "</style>\n",
       "<table border=\"1\" class=\"dataframe\">\n",
       "  <thead>\n",
       "    <tr style=\"text-align: right;\">\n",
       "      <th>Tag2</th>\n",
       "      <th>art</th>\n",
       "      <th>paint stand</th>\n",
       "      <th>painting</th>\n",
       "      <th>sunset</th>\n",
       "    </tr>\n",
       "    <tr>\n",
       "      <th>Tag1</th>\n",
       "      <th></th>\n",
       "      <th></th>\n",
       "      <th></th>\n",
       "      <th></th>\n",
       "    </tr>\n",
       "  </thead>\n",
       "  <tbody>\n",
       "    <tr>\n",
       "      <th>art</th>\n",
       "      <td>NaN</td>\n",
       "      <td>2.156132e-10</td>\n",
       "      <td>7.429036e-11</td>\n",
       "      <td>1.887986e-10</td>\n",
       "    </tr>\n",
       "    <tr>\n",
       "      <th>paint stand</th>\n",
       "      <td>2.156132e-10</td>\n",
       "      <td>NaN</td>\n",
       "      <td>2.012192e-10</td>\n",
       "      <td>1.574152e-10</td>\n",
       "    </tr>\n",
       "    <tr>\n",
       "      <th>painting</th>\n",
       "      <td>7.429036e-11</td>\n",
       "      <td>2.012192e-10</td>\n",
       "      <td>NaN</td>\n",
       "      <td>1.602368e-10</td>\n",
       "    </tr>\n",
       "    <tr>\n",
       "      <th>sunset</th>\n",
       "      <td>1.887986e-10</td>\n",
       "      <td>1.574152e-10</td>\n",
       "      <td>1.602368e-10</td>\n",
       "      <td>NaN</td>\n",
       "    </tr>\n",
       "  </tbody>\n",
       "</table>\n",
       "</div>"
      ],
      "text/plain": [
       "Tag2                  art   paint stand      painting        sunset\n",
       "Tag1                                                               \n",
       "art                   NaN  2.156132e-10  7.429036e-11  1.887986e-10\n",
       "paint stand  2.156132e-10           NaN  2.012192e-10  1.574152e-10\n",
       "painting     7.429036e-11  2.012192e-10           NaN  1.602368e-10\n",
       "sunset       1.887986e-10  1.574152e-10  1.602368e-10           NaN"
      ]
     },
     "execution_count": 44,
     "metadata": {},
     "output_type": "execute_result"
    }
   ],
   "source": [
    "df = all_tags.loc[all_tags['Video']=='1edited_art_TD_1.mp4']\n",
    "df = df.loc[df['Words_Technique']=='Manual']\n",
    "df = df[['Tag1', 'Tag2', 'NDG']]\n",
    "\n",
    "new_df = df.rename(columns={\"Tag1\": \"Tag2\", \"Tag2\": \"Tag1\"})\n",
    "df = pd.concat([df, new_df])\n",
    "\n",
    "df.pivot(columns='Tag2', index='Tag1', values='NDG')\n"
   ]
  },
  {
   "cell_type": "markdown",
   "metadata": {},
   "source": [
    "# Analyses Descriptive "
   ]
  },
  {
   "cell_type": "code",
   "execution_count": 254,
   "metadata": {},
   "outputs": [
    {
     "data": {
      "image/png": "[encoded data removed]",
      "text/plain": [
       "<Figure size 432x288 with 1 Axes>"
      ]
     },
     "metadata": {
      "needs_background": "light"
     },
     "output_type": "display_data"
    }
   ],
   "source": [
    "import seaborn as sns\n",
    "\n",
    "df = all_tags\n",
    "\n",
    "# df = df.groupby('Video').mean().reset_index()\n",
    "df['Type'] = df['Video'].astype(str).str[0]\n",
    "\n",
    "ax = sns.violinplot(x=\"Type\", y=\"NDG\",hue='Words_Technique', data=df, split=True)"
   ]
  },
  {
   "cell_type": "code",
   "execution_count": 275,
   "metadata": {
    "scrolled": false
   },
   "outputs": [
    {
     "name": "stdout",
     "output_type": "stream",
     "text": [
      " \n",
      "\n",
      "p = 0.00197778*\n",
      "There's a difference in at least one groups\n",
      "\n",
      " Multiple Comparison of Means - Tukey HSD, FWER=0.05 \n",
      "=====================================================\n",
      " group1   group2   meandiff p-adj  lower upper reject\n",
      "-----------------------------------------------------\n",
      "  Funny    Neutral     -0.0 0.0014  -0.0  -0.0   True\n",
      "  Funny Very Funny     -0.0  0.401  -0.0   0.0  False\n",
      "Neutral Very Funny      0.0 0.0642  -0.0   0.0  False\n",
      "-----------------------------------------------------\n"
     ]
    },
    {
     "data": {
      "image/png": "[encoded data removed]",
      "text/plain": [
       "<Figure size 432x288 with 1 Axes>"
      ]
     },
     "metadata": {
      "needs_background": "light"
     },
     "output_type": "display_data"
    }
   ],
   "source": [
    "df = all_tags#.loc[all_tags['Words_Technique']=='Manual']\n",
    "df = df.groupby('Video').mean().reset_index()\n",
    "df['Type'] = df['Video'].astype(str).str[0]\n",
    "\n",
    "df= df.replace({'1':'Neutral', '2': 'Funny', '3':'Very Funny'})\n",
    "Anova_Type(df, 'NDG', title='')"
   ]
  },
  {
   "cell_type": "code",
   "execution_count": null,
   "metadata": {},
   "outputs": [],
   "source": []
  }
 ],
 "metadata": {
  "kernelspec": {
   "display_name": "Python 3",
   "language": "python",
   "name": "python3"
  },
  "language_info": {
   "codemirror_mode": {
    "name": "ipython",
    "version": 3
   },
   "file_extension": ".py",
   "mimetype": "text/x-python",
   "name": "python",
   "nbconvert_exporter": "python",
   "pygments_lexer": "ipython3",
   "version": "3.7.3"
  }
 },
 "nbformat": 4,
 "nbformat_minor": 2
}
