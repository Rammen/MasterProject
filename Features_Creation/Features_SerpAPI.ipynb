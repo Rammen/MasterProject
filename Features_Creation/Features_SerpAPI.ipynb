{
 "cells": [
  {
   "cell_type": "code",
   "execution_count": 20,
   "metadata": {},
   "outputs": [],
   "source": [
    "import pandas as pd\n",
    "from itertools import combinations\n",
    "from serpapi import GoogleSearchResults"
   ]
  },
  {
   "cell_type": "markdown",
   "metadata": {},
   "source": [
    "# Create List of words & combinations\n",
    "\n",
    "Create a list of words and words combinations (2 words) for Google Tags and Manual Tags. We than merge both of them together and exclude all string (either words or combinations) that are the same. \n",
    "\n",
    "**Google Tags** : I used Google API to generate tags for each video\n",
    "\n",
    "**Manual Tags** : I annoted manually each video with 4 tags each\n",
    "\n",
    "SerpAPI has a maximum number of time the API can be called, so I chose the 10 tags with the most from google and the 4 that I created. I merged all tags together and removed duplicates. "
   ]
  },
  {
   "cell_type": "code",
   "execution_count": 18,
   "metadata": {},
   "outputs": [
    {
     "data": {
      "text/plain": [
       "4133"
      ]
     },
     "execution_count": 18,
     "metadata": {},
     "output_type": "execute_result"
    }
   ],
   "source": [
    "# Google Tags\n",
    "\n",
    "df = pd.read_csv('./all_shot.csv')[['Name', 'VideoLabel', 'confidence']]\n",
    "all_data =  []\n",
    "\n",
    "for name in df['Name'].unique():\n",
    "    a = df.loc[df['Name']==name].nlargest(10, 'confidence')\n",
    "    a = list(a['VideoLabel'])\n",
    "    combination = list(set(a))\n",
    "    all_data +=  combination\n",
    "    all_data += [\" \".join(map(str, comb)) for comb in combinations(combination, 2)]\n",
    "\n",
    "google = list(set(all_data))\n",
    "    \n",
    "# Manual Tags\n",
    "\n",
    "df = pd.read_excel('./Tags.xlsx')\n",
    "\n",
    "X=[]\n",
    "for index, row in df.iterrows():\n",
    "    x = list(row.drop('Video'))\n",
    "    X.append(x)\n",
    "\n",
    "X\n",
    "all_data =  []\n",
    "\n",
    "for x in X:\n",
    "    combination = list(set(x))\n",
    "    all_data +=  combination\n",
    "    all_data += [\" \".join(map(str, comb)) for comb in combinations(combination, 2)]\n",
    "\n",
    "manual = list(set(all_data))\n",
    "\n",
    "# Merge lists\n",
    "\n",
    "merge_tags = google + manual + ['the']\n",
    "\n",
    "len(merge_tags)"
   ]
  },
  {
   "cell_type": "markdown",
   "metadata": {},
   "source": [
    "### Descriptive Graphics "
   ]
  },
  {
   "cell_type": "code",
   "execution_count": 6,
   "metadata": {
    "scrolled": true
   },
   "outputs": [
    {
     "data": {
      "text/plain": [
       "<matplotlib.axes._subplots.AxesSubplot at 0x211fe2c93c8>"
      ]
     },
     "execution_count": 6,
     "metadata": {},
     "output_type": "execute_result"
    },
    {
     "data": {
      "image/png": "[encoded data removed]",
      "text/plain": [
       "<Figure size 432x288 with 1 Axes>"
      ]
     },
     "metadata": {
      "needs_background": "light"
     },
     "output_type": "display_data"
    }
   ],
   "source": [
    "import seaborn as sns\n",
    "\n",
    "df = pd.read_csv('./all_shot.csv')[['Name', 'VideoLabel', 'confidence']]\n",
    "\n",
    "new_df = pd.DataFrame(columns=['Name', 'VideoLabel', 'confidence'])\n",
    "\n",
    "for name in df['Name'].unique():\n",
    "    a = df.loc[df['Name']==name].nlargest(10, 'confidence')\n",
    "    new_df = new_df.append(a, ignore_index=True ) \n",
    "    \n",
    "new_df.to_csv('./all_shot_10items.csv')\n",
    "\n",
    "sns.countplot(x='VideoLabel', data=new_df.groupby('Name').count())"
   ]
  },
  {
   "cell_type": "code",
   "execution_count": 5,
   "metadata": {
    "scrolled": true
   },
   "outputs": [
    {
     "data": {
      "text/plain": [
       "<matplotlib.axes._subplots.AxesSubplot at 0x211fc92a860>"
      ]
     },
     "execution_count": 5,
     "metadata": {},
     "output_type": "execute_result"
    },
    {
     "data": {
      "image/png": "[encoded data removed]",
      "text/plain": [
       "<Figure size 432x288 with 1 Axes>"
      ]
     },
     "metadata": {
      "needs_background": "light"
     },
     "output_type": "display_data"
    }
   ],
   "source": [
    "df = pd.read_csv('./all_shot.csv')[['Name', 'VideoLabel', 'confidence']]\n",
    "\n",
    "new_df = pd.DataFrame(columns=['Mean', 'Count'])\n",
    "\n",
    "for name in df['Name'].unique():\n",
    "    a = df.loc[df['Name']==name].nlargest(15, 'confidence')\n",
    "    new_df = new_df.append({'Mean':a['confidence'].mean(), 'Count':a['confidence'].count()}, ignore_index=True ) \n",
    "    \n",
    "\n",
    "m= new_df.groupby('Count').mean()\n",
    "\n",
    "sns.scatterplot(new_df['Count'], new_df['Mean'])\n",
    "sns.lineplot(data=m.reset_index(), x=\"Count\", y=\"Mean\", color='r')\n",
    "\n"
   ]
  },
  {
   "cell_type": "markdown",
   "metadata": {},
   "source": [
    "# SerpAPI  "
   ]
  },
  {
   "cell_type": "code",
   "execution_count": 29,
   "metadata": {},
   "outputs": [
    {
     "name": "stdout",
     "output_type": "stream",
     "text": [
      "treadmill fast\n",
      "fat\n",
      "Mr. Been\n",
      "people plants\n",
      "baby  book\n",
      "truck\n",
      "pitching baseball\n",
      "truck pickup\n",
      "painting\n",
      "tv anchor\n",
      "dog scratching\n",
      "book big eyes\n",
      "fridge cleaning\n",
      "tom jerry\n",
      "game hit\n",
      "video game\n",
      "beach baby\n",
      "digital art\n",
      "people business\n",
      "video game MarioKart\n"
     ]
    },
    {
     "data": {
      "text/html": [
       "<div>\n",
       "<style scoped>\n",
       "    .dataframe tbody tr th:only-of-type {\n",
       "        vertical-align: middle;\n",
       "    }\n",
       "\n",
       "    .dataframe tbody tr th {\n",
       "        vertical-align: top;\n",
       "    }\n",
       "\n",
       "    .dataframe thead th {\n",
       "        text-align: right;\n",
       "    }\n",
       "</style>\n",
       "<table border=\"1\" class=\"dataframe\">\n",
       "  <thead>\n",
       "    <tr style=\"text-align: right;\">\n",
       "      <th></th>\n",
       "      <th>Tags</th>\n",
       "      <th>Result</th>\n",
       "    </tr>\n",
       "  </thead>\n",
       "  <tbody>\n",
       "    <tr>\n",
       "      <th>0</th>\n",
       "      <td>plank</td>\n",
       "      <td>292000000</td>\n",
       "    </tr>\n",
       "    <tr>\n",
       "      <th>1</th>\n",
       "      <td>forest</td>\n",
       "      <td>1640000000</td>\n",
       "    </tr>\n",
       "    <tr>\n",
       "      <th>2</th>\n",
       "      <td>stable</td>\n",
       "      <td>925000000</td>\n",
       "    </tr>\n",
       "    <tr>\n",
       "      <th>3</th>\n",
       "      <td>drunk</td>\n",
       "      <td>513000000</td>\n",
       "    </tr>\n",
       "    <tr>\n",
       "      <th>4</th>\n",
       "      <td>river</td>\n",
       "      <td>2290000000</td>\n",
       "    </tr>\n",
       "    <tr>\n",
       "      <th>...</th>\n",
       "      <td>...</td>\n",
       "      <td>...</td>\n",
       "    </tr>\n",
       "    <tr>\n",
       "      <th>1108</th>\n",
       "      <td>men</td>\n",
       "      <td>8190000000</td>\n",
       "    </tr>\n",
       "    <tr>\n",
       "      <th>1109</th>\n",
       "      <td>vegetable cutting board</td>\n",
       "      <td>130000000</td>\n",
       "    </tr>\n",
       "    <tr>\n",
       "      <th>1110</th>\n",
       "      <td>ice cream joke</td>\n",
       "      <td>55400000</td>\n",
       "    </tr>\n",
       "    <tr>\n",
       "      <th>1111</th>\n",
       "      <td>kids MarioKart</td>\n",
       "      <td>13800000</td>\n",
       "    </tr>\n",
       "    <tr>\n",
       "      <th>1112</th>\n",
       "      <td>the</td>\n",
       "      <td>25270000000</td>\n",
       "    </tr>\n",
       "  </tbody>\n",
       "</table>\n",
       "<p>1113 rows × 2 columns</p>\n",
       "</div>"
      ],
      "text/plain": [
       "                         Tags       Result\n",
       "0                       plank    292000000\n",
       "1                      forest   1640000000\n",
       "2                      stable    925000000\n",
       "3                       drunk    513000000\n",
       "4                       river   2290000000\n",
       "...                       ...          ...\n",
       "1108                     men    8190000000\n",
       "1109  vegetable cutting board    130000000\n",
       "1110           ice cream joke     55400000\n",
       "1111           kids MarioKart     13800000\n",
       "1112                      the  25270000000\n",
       "\n",
       "[1113 rows x 2 columns]"
      ]
     },
     "execution_count": 29,
     "metadata": {},
     "output_type": "execute_result"
    }
   ],
   "source": [
    "key = ''\n",
    "\n",
    "df = pd.DataFrame(columns=['Tags', 'Result'])\n",
    "\n",
    "for tag in merge_tags[3000:]:\n",
    "    try:\n",
    "        client = GoogleSearchResults({\"q\": tag, \"location\": \"Montreal,Canada\", \"api_key\": key})\n",
    "        results = client.get_dict()\n",
    "        result = results['search_information']['total_results']\n",
    "\n",
    "        df = df.append({'Tags':tag, 'Result':result}, ignore_index=True)\n",
    "    \n",
    "    except:\n",
    "        print(tag)\n",
    "        pass\n",
    "    \n",
    "df.to_csv('./serpapi_results_4.csv')\n",
    "df"
   ]
  }
 ],
 "metadata": {
  "kernelspec": {
   "display_name": "Python 3",
   "language": "python",
   "name": "python3"
  },
  "language_info": {
   "codemirror_mode": {
    "name": "ipython",
    "version": 3
   },
   "file_extension": ".py",
   "mimetype": "text/x-python",
   "name": "python",
   "nbconvert_exporter": "python",
   "pygments_lexer": "ipython3",
   "version": "3.7.3"
  }
 },
 "nbformat": 4,
 "nbformat_minor": 2
}
